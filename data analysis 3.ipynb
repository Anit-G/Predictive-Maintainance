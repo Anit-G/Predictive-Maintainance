{
 "cells": [
  {
   "cell_type": "code",
   "execution_count": null,
   "metadata": {},
   "outputs": [],
   "source": [
    "import numpy as np\n",
    "import matplotlib.pyplot as plt\n",
    "import pandas as pd\n",
    "import seaborn as sb\n",
    "import random\n",
    "from Helper import prepare_train_data\n",
    "\n",
    "data_link = './Data/'\n",
    "train_link = 'train_FD003.txt'\n",
    "test_link = 'test_FD003.txt'\n",
    "rul_link = \"RUL_FD003.txt\"\n",
    "\n",
    "random.seed(49)\n",
    "np.random.seed(49)"
   ]
  },
  {
   "cell_type": "markdown",
   "metadata": {},
   "source": [
    "# Data Import"
   ]
  },
  {
   "cell_type": "code",
   "execution_count": null,
   "metadata": {},
   "outputs": [],
   "source": [
    "df = pd.read_csv(data_link+train_link,sep=\" \",header=None)\n",
    "df.dropna(axis=1,inplace=True)\n",
    "columns = ['unit_number','time_in_cycles','sensor1','sensor2','sensor3','sensor4','sensor5','sensor6','sensor7','sensor8','sensor9','sensor10','sensor11',\n",
    "'sensor12','sensor13','sensor14','sensor15','sensor16','sensor17','sensor18','sensor19','sensor20','sensor21','sensor22','sensor23','sensor24', ]\n",
    "df.columns = columns\n",
    "pd.options.display.max_columns = 100\n",
    "\n",
    "# Add RUL\n",
    "df = prepare_train_data(df)\n",
    "df.head()"
   ]
  },
  {
   "cell_type": "markdown",
   "metadata": {},
   "source": [
    "# Data Discriptions"
   ]
  },
  {
   "cell_type": "code",
   "execution_count": null,
   "metadata": {},
   "outputs": [],
   "source": [
    "pd.options.display.max_columns = 100\n",
    "des = df.describe()\n",
    "des.loc['median'] = df.median().values\n",
    "des.loc['coeffvariation'] = (df.std()/df.mean()).values\n",
    "des.loc['nunique'] = df.nunique().values\n",
    "des.loc['NullCount'] = df.isna().sum().values\n",
    "des"
   ]
  },
  {
   "cell_type": "code",
   "execution_count": null,
   "metadata": {},
   "outputs": [],
   "source": [
    "# find if time_in_cycles is continous\n",
    "for i in range(1,101):\n",
    "    tic = df[df['unit_number']==i]['time_in_cycles'].values\n",
    "    for a,b in zip(tic, np.arange(1,len(tic)+1)):\n",
    "        if a!=b:\n",
    "            print(f\"TIC is discontinous\")\n",
    "        else:\n",
    "            pass\n",
    "print(f'Total analmolies in sensor9: {sum(df.sensor9<21.55)}')\n",
    "\n",
    "# anamolies present in sensor11 and 16\n",
    "print(df[df.sensor11<2387.75].unit_number.value_counts())"
   ]
  },
  {
   "cell_type": "markdown",
   "metadata": {},
   "source": [
    "# Data plots"
   ]
  },
  {
   "cell_type": "code",
   "execution_count": null,
   "metadata": {},
   "outputs": [],
   "source": [
    "# for col in df.columns:\n",
    "#   plot_data = df[df['unit_number']==1][col]\n",
    "#   length = len(plot_data)\n",
    "#   fig, ax = plt.subplots(1,4,figsize=(30,10),gridspec_kw={'width_ratios': [4,4,4,0.5]})\n",
    "#   ax[0].plot(np.arange(length),plot_data,marker='.',alpha=0.4)\n",
    "#   ax[1].scatter(np.arange(len(df[col])),df[col],marker='.',alpha=0.4)\n",
    "#   sb.histplot(df[col],kde=True,ax=ax[2],)\n",
    "#   #sb.histplot(df[col],ax=ax[3])\n",
    "#   sb.boxplot(y=df[col],color='green',orient='v',ax=ax[3])\n",
    "#   ax[0].set_ylabel(col)\n",
    "#   ax[1].set_ylabel(col)\n",
    "#   ax[2].set_xlabel(col)\n",
    "#   ax[3].set_xlabel(col)\n",
    "#   plt.show()"
   ]
  },
  {
   "cell_type": "code",
   "execution_count": null,
   "metadata": {},
   "outputs": [],
   "source": [
    "from sklearn.preprocessing import RobustScaler, MinMaxScaler\n",
    "rb = RobustScaler()\n",
    "mm = MinMaxScaler()\n",
    "d = rb.fit_transform(df)\n",
    "#d = np.sqrt(d)\n",
    "#d = mm.fit_transform(d)\n",
    "fig, ax = plt.subplots(1,2,figsize=(10,5))\n",
    "sb.histplot(d[:,13], ax=ax[0])\n",
    "sb.histplot(df['sensor12'],ax = ax[1])\n",
    "plt.show()"
   ]
  },
  {
   "cell_type": "markdown",
   "metadata": {},
   "source": [
    "# Display random unit_numbers"
   ]
  },
  {
   "cell_type": "code",
   "execution_count": null,
   "metadata": {},
   "outputs": [],
   "source": [
    "# # Correalation Heatmap\n",
    "# sb.heatmap(df.corr(),annot=True,cmap='RdYlGn',linewidths=0.2,)\n",
    "# fig = plt.gcf()\n",
    "# fig.set_size_inches(25,25)\n",
    "# plt.show()"
   ]
  },
  {
   "cell_type": "code",
   "execution_count": null,
   "metadata": {},
   "outputs": [],
   "source": [
    "# # Display random unit numbers\n",
    "# a = [55,24,71,11]\n",
    "# for col in df.columns:\n",
    "#   fig, ax = plt.subplots(1,4,figsize=(30,10),gridspec_kw={'width_ratios': [1,1,1,1]})\n",
    "#   for ID,un in zip(ax.ravel(),a):\n",
    "#     plot_data = df[df['unit_number']==un][col]\n",
    "#     length = len(plot_data)\n",
    "#     ID.plot(np.arange(length),plot_data,marker='.',alpha=0.4)\n",
    "#     ID.set_ylabel(col)\n",
    "#     ID.set_title(un)\n",
    "#   plt.show()"
   ]
  },
  {
   "cell_type": "markdown",
   "metadata": {},
   "source": [
    "# RUL relations"
   ]
  },
  {
   "cell_type": "code",
   "execution_count": null,
   "metadata": {},
   "outputs": [],
   "source": [
    "# for col in df.columns:\n",
    "#   plt.scatter(df['RUL'],df[col],marker='.')\n",
    "#   plt.ylabel(col)\n",
    "#   plt.xlabel('RUL')\n",
    "#   plt.show()"
   ]
  },
  {
   "cell_type": "markdown",
   "metadata": {},
   "source": [
    "# Scaling and trimming"
   ]
  },
  {
   "cell_type": "code",
   "execution_count": null,
   "metadata": {},
   "outputs": [],
   "source": [
    "# Dropping the anomalies of unit_number 10 according to findings in EDA of Sensor 9\n",
    "df = df.loc[~(df.unit_number==10)]\n",
    "\n",
    "# Add 24 hour check (180) and 100 hour check (250) and week check (350 cycles)\n",
    "df['Acheck'] = (df['time_in_cycles']>180).values.astype(int)\n",
    "df['Bcheck'] = (df['time_in_cycles']>250).values.astype(int)\n",
    "df['Ccheck'] = (df['time_in_cycles']>350).values.astype(int)\n",
    "\n",
    "# Dropping useless columns\n",
    "for a in ['sensor3','sensor4','sensor8','sensor19','sensor21','sensor22']:\n",
    "    df.drop(a,axis=1,inplace=True)\n",
    "\n",
    "#drop duplicatives sensor 15,16,17\n",
    "for a in ['sensor15','sensor16','sensor17']:\n",
    "    df.drop(a,axis=1,inplace=True)\n",
    "\n",
    "df.head()"
   ]
  },
  {
   "cell_type": "code",
   "execution_count": null,
   "metadata": {},
   "outputs": [],
   "source": [
    "#scaling\n",
    "from scaling import scaling\n",
    "from describe import describe\n",
    "cols_normalize = df.columns.difference(['unit_number','time_in_cycles','RUL'])\n",
    "# df_t = scaling(df,[cols_normalize,['sensor10','sensor11','sensor12']],scalers=['MinMax','Robust_Scaler'],single=False)\n",
    "df_t = scaling(df,cols_normalize,scalers='Robust_Scaler',single=True)\n",
    "df_t = scaling(df_t,cols_normalize,scalers='MinMax',single=True)\n",
    "# print(df.columns.difference(cols_normalize))\n",
    "# df = df[df.columns.difference(cols_normalize)].join(df_t)\n",
    "\n",
    "#sqrt sensor 10-12 from df_t\n",
    "#df_t = df_t[df_t.columns.difference(['sensor10','sensor11','sensor12'])].join(df_t[['sensor10','sensor11','sensor12']].apply(np.sqrt))\n",
    "\n",
    "#add 'unit_number','time_in_cycles','RUL' to df_t\n",
    "df = df_t.join(df[['unit_number','time_in_cycles','RUL']])\n",
    "\n",
    "# describe function\n",
    "des = describe(df)\n",
    "#drop unit_number\n",
    "unit_number = pd.DataFrame(df[\"unit_number\"])\n",
    "df = df.drop(columns='unit_number',axis=1)\n",
    "\n",
    "# for col in df.columns:\n",
    "#   plot_data = df[df['unit_number']==1][col]\n",
    "#   length = len(plot_data)\n",
    "#   fig, ax = plt.subplots(1,4,figsize=(30,10),gridspec_kw={'width_ratios': [4,4,4,0.5]})\n",
    "#   ax[0].plot(np.arange(length),plot_data,marker='.',alpha=0.4)\n",
    "#   ax[1].scatter(np.arange(len(df[col])),df[col],marker='.',alpha=0.4)\n",
    "#   sb.histplot(df[col],kde=True,ax=ax[2],)\n",
    "#   #sb.histplot(df[col],ax=ax[3])\n",
    "#   sb.boxplot(y=df[col],color='green',orient='v',ax=ax[3])\n",
    "#   ax[0].set_ylabel(col)\n",
    "#   ax[1].set_ylabel(col)\n",
    "#   ax[2].set_xlabel(col)\n",
    "#   ax[3].set_xlabel(col)\n",
    "#   plt.show()\n",
    "des "
   ]
  },
  {
   "cell_type": "code",
   "execution_count": null,
   "metadata": {},
   "outputs": [],
   "source": [
    "plt.figure()\n",
    "sb.histplot(df['sensor12'])"
   ]
  },
  {
   "cell_type": "code",
   "execution_count": null,
   "metadata": {},
   "outputs": [],
   "source": [
    "#Set up test data\n",
    "test_df = pd.read_csv(data_link+test_link,sep=\" \",header=None)\n",
    "test_df.dropna(axis=1,inplace=True)\n",
    "columns = ['unit_number','time_in_cycles','sensor1','sensor2','sensor3','sensor4','sensor5','sensor6','sensor7','sensor8','sensor9','sensor10','sensor11',\n",
    "'sensor12','sensor13','sensor14','sensor15','sensor16','sensor17','sensor18','sensor19','sensor20','sensor21','sensor22','sensor23','sensor24', ]\n",
    "test_df.columns = columns\n",
    "\n",
    "# Dropping the anomalies of unit_number 10 according to findings in EDA of Sensor 9\n",
    "#test_df = test_df.loc[~(test_df.unit_number==10)]\n",
    "\n",
    "# Add 24 hour check (180) and 100 hour check (250) and week check (350 cycles)\n",
    "test_df['Acheck'] = (test_df['time_in_cycles']>180).values.astype(int)\n",
    "test_df['Bcheck'] = (test_df['time_in_cycles']>250).values.astype(int)\n",
    "test_df['Ccheck'] = (test_df['time_in_cycles']>350).values.astype(int)\n",
    "\n",
    "# Dropping useless columns\n",
    "for a in ['sensor3','sensor4','sensor8','sensor19','sensor21','sensor22']:\n",
    "    test_df.drop(a,axis=1,inplace=True)\n",
    "\n",
    "#drop duplicatives sensor 15,16,17\n",
    "for a in ['sensor15','sensor16','sensor17']:\n",
    "    test_df.drop(a,axis=1,inplace=True)\n",
    "\n",
    "#scaling\n",
    "from scaling import scaling\n",
    "cols_normalize = test_df.columns.difference(['unit_number','time_in_cycles'])\n",
    "# df_t = scaling(test_df,[cols_normalize,['sensor10','sensor11','sensor12']],scalers=['MinMax','Robust_Scaler'],single=False)\n",
    "df_t = scaling(test_df,cols_normalize,scalers='Robust_Scaler',single=True)\n",
    "df_t = scaling(df_t,cols_normalize,scalers='MinMax',single=True)\n",
    "#add 'unit_number','time_in_cycles','RUL' to df_t\n",
    "test_df = df_t.join(test_df[['unit_number','time_in_cycles']])\n",
    "\n",
    "#describe function\n",
    "des = test_df.describe()\n",
    "des.loc['median'] = test_df.median().values\n",
    "des.loc['coeffvariation'] = (test_df.std()/test_df.mean()).values\n",
    "des.loc['nunique'] = test_df.nunique().values\n",
    "des.loc['NullCount'] = test_df.isna().sum().values\n",
    "\n",
    "# find the time cycle which gives the max cycles\n",
    "dft = test_df\n",
    "test_max = dft.groupby('unit_number')['time_in_cycles'].max().reset_index()\n",
    "test_max.columns = ['unit_number','max']\n",
    "dft = dft.merge(test_max, on=['unit_number'], how='left')\n",
    "test = dft[dft['time_in_cycles'] == dft['max']].reset_index()\n",
    "test.drop(columns=['index','max','unit_number'],inplace = True)\n",
    "test_df = test.to_numpy()\n",
    "\n",
    "RUL = pd.read_csv(data_link+rul_link,sep=\" \",header=None)\n",
    "\n",
    "print(f\"Test Dataset shape: {test_df.shape}\")\n",
    "print(f\"Train Dataset Shape: {df.shape}\")\n",
    "des"
   ]
  },
  {
   "cell_type": "code",
   "execution_count": null,
   "metadata": {},
   "outputs": [],
   "source": [
    "# from Helper import train_models,score_func\n",
    "# acc=[]\n",
    "# eval_acc={}\n",
    "# model_names = ['FOREST','LinR','LSVM','SVM','KNN','GNB','TREE','CAT']\n",
    "# for model in model_names:\n",
    "#     print(f'Algorithm: {model}')\n",
    "#     model_1 = train_models(df,model)\n",
    "#     y_pred = model_1.predict(test_df)\n",
    "\n",
    "#     # Get y true\n",
    "#     y_true = RUL[0].to_numpy()\n",
    "\n",
    "#     RF_individual_scorelst = score_func(y_true, y_pred)\n",
    "#     acc.append(RF_individual_scorelst)\n",
    "     \n",
    "# eval_acc={'Modelling Algorithm':model_names,'Accuracy':acc}\n",
    "# eval_acc"
   ]
  },
  {
   "cell_type": "markdown",
   "metadata": {},
   "source": [
    "# LSTM"
   ]
  },
  {
   "cell_type": "code",
   "execution_count": null,
   "metadata": {},
   "outputs": [],
   "source": [
    "from Helper import *\n",
    "train_df = df\n",
    "train_df_lstm = pd.concat([unit_number, train_df], axis=1)\n",
    "model, history, lstm_test_df, seq_array, label_array, sequence_length, sequence_cols = train_models([train_df_lstm, dft, RUL.copy()], \"LSTM\",epoch=500)\n",
    "lstm_test_evaluation_graphs(model, history, seq_array, label_array)"
   ]
  },
  {
   "cell_type": "code",
   "execution_count": null,
   "metadata": {},
   "outputs": [],
   "source": [
    "MAE, R2, y_pred = lstm_valid_evaluation(lstm_test_df, model, sequence_length, sequence_cols)\n",
    "# mae, rmse, r2\n",
    "LSTM_individual_scorelst = [round(MAE,2), 0, round(R2,2)*100]"
   ]
  },
  {
   "cell_type": "code",
   "execution_count": null,
   "metadata": {},
   "outputs": [],
   "source": [
    "logger.info('-------------- Save Model ---------------') \n",
    "model.save('model/model3.h5')"
   ]
  },
  {
   "cell_type": "code",
   "execution_count": null,
   "metadata": {},
   "outputs": [],
   "source": []
  }
 ],
 "metadata": {
  "interpreter": {
   "hash": "db38e44f3a73997c320ae5515db818ddb472012e8545de573369d3e3c7edac71"
  },
  "kernelspec": {
   "display_name": "Python 3.7.4 ('base')",
   "language": "python",
   "name": "python3"
  },
  "language_info": {
   "codemirror_mode": {
    "name": "ipython",
    "version": 3
   },
   "file_extension": ".py",
   "mimetype": "text/x-python",
   "name": "python",
   "nbconvert_exporter": "python",
   "pygments_lexer": "ipython3",
   "version": "3.7.4"
  },
  "orig_nbformat": 4
 },
 "nbformat": 4,
 "nbformat_minor": 2
}
